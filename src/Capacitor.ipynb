{
 "cells": [
  {
   "cell_type": "markdown",
   "id": "dbcd40f9",
   "metadata": {},
   "source": [
    "# Bases para hacer el modelaje de una capacitor\n",
    "\n",
    "La situación física que se busca modelar es la siguiente:\n",
    "\n",
    "<div>\n",
    "<img src=\"capacitor.png\" width=\"400\"/>\n",
    "</div>\n",
    "\n",
    "Se tiene que hacer uso del método de Jacobi, el método de relajación de Jacobi modificado y el método de Gauss-Seidel. Esto, con el propósito de comparar la efectividad de cada uno de los métodos por medio de la cantidad de iteraciones requerida para llegar a cierto valor de convergencia."
   ]
  },
  {
   "cell_type": "markdown",
   "id": "b76bc000",
   "metadata": {},
   "source": [
    "## Método de relajación de Jacobi\n",
    "\n",
    "El método de relajación de Jacobi es el método más sencillo que podemos aplicar para esta ecuación diferencial. \n",
    "\n",
    "Este método está basado en el método de relajación que estudiamos para encontrar las raíces de una ecuación no lineal. Basta con reacomodar la ecuación con la forma\n",
    "$$\n",
    "\\phi'(x, y) = \\frac{1}{4}\\left[\\phi(x+a, y) + \\phi(x-a, y) + \\phi(x, y+a) + \\phi(x, y-a)\\right],\n",
    "$$\n",
    "para poder aplicar el método de relajación. \n",
    "* Note que el problema tiene la misma forma que $x = f(x)$, con el cual se puede utilizar el método de relajación. \n",
    "* Básicamente, con esta metodología, obtenemos que el nuevo punto de la función en (x, y) es un promedio de la iteración anterior\n",
    "* Lo único que se debe hacer, es \n",
    "  - Fijar $\\phi(x, y)$ en los puntos de frontera\n",
    "  - Considerar valores iniciales: estos valores pueden ser cualquier valor inicial que queramos escoger\n",
    "  - Aplicar la ecuación anterior a **cada punto de la grilla**\n",
    "  - Una vez finalizado este procedimiento, los valores obtenidos se vuelven a escoger para la siguiente iteración\n",
    "  - Se termina cuando se alcanza la convergencia con cierta tolerancia deseada \n",
    "* A pesar de que el método de relajación no se puede utilizar para soluciones inestables, **se puede probar que el método de Jacobi siempre converge a una solución estable**"
   ]
  },
  {
   "cell_type": "code",
   "execution_count": 1,
   "id": "aa4cab17",
   "metadata": {},
   "outputs": [],
   "source": [
    "import numpy as np\n",
    "import matplotlib.pyplot as plt\n",
    "import matplotlib.cm as cm\n",
    "# Esta función toma como argumentos el tamaño lineal de la grilla cuadrada,\n",
    "# el valor del voltaje en la sección superior de la grilla y la tolerancia de convergencia \n",
    "def jacobi_relaxation(M, V1, V2, tolerance):\n",
    "    # M es el multiplo del tamaño de la grilla, esto permite que se mantenga la relacion de 10x10 pero se pueda\n",
    "    # Hacer una grilla con mayores divisiones generando mayor precision \n",
    "    # El mismo concepto aplica para cuando aparezca un valor multiplicado por M, es para generar mas precision pero\n",
    "    # mantiene la escala \n",
    "    phi = np.zeros((M*10, M*10 + 1), dtype=float)\n",
    "    # Ahora tenemos que colocar la condición inicial.\n",
    "    # Recuerde accesos de listas en np.ndarray\n",
    "    # Las condiciones de frontera de las placas con voltaje\n",
    "    phi[2*M:8*M, 2*M] = V1\n",
    "    phi[2*M:8*M, 8*M] = V2\n",
    "    \n",
    "    plt.imshow(phi)\n",
    "    plt.grid\n",
    "    plt.gray()\n",
    "    plt.title(\"Estado inicial del sistema\")\n",
    "    plt.show()\n",
    "    print(phi)\n",
    "    # phiprime se necesita para la iteración\n",
    "    phiprime = np.zeros((M*10, M*10 + 1), dtype=float)\n",
    "    phiprime[2*M:8*M, 2*M] = V1\n",
    "    phiprime[2*M:8*M, 8*M] = V2 \n",
    "    # Iteración de Jacobi\n",
    "    delta = 1.0\n",
    "    its = 0\n",
    "    while delta > tolerance:\n",
    "        # Calculamos la iteración\n",
    "        its += 1\n",
    "        # El ciclo se itera desde 1 hasta el penúltimo elemento de la grilla para no incluir las condiciones\n",
    "        # de frontera del borde de la grilla\n",
    "        for i in range(1,M*10-1):\n",
    "            for j in range(1,M*10):\n",
    "                # Condición de frontera\n",
    "                if  2*M <= i < 8*M and (j == 2*M  or j == 8*M):\n",
    "                    pass\n",
    "                # Iteración principal\n",
    "                else:\n",
    "                    #COMPLETE AQUÍ\n",
    "                    phiprime[i,j] = (0.25)*(phi[i+1,j] + phi[i-1,j] + phi[i,j+1] + phi[i,j-1])\n",
    "        # Calculamos la diferencia máxima con respecto a los valores anteriores\n",
    "        delta = np.max(np.abs(phi - phiprime))\n",
    "        # Ahora intercambiamos los arreglos para la nueva iteración\n",
    "        # El nuevo phi es el phiprime\n",
    "        temp = phi\n",
    "        phi = phiprime\n",
    "        # El nuevo phiprime es el phi viejo\n",
    "        phiprime = temp\n",
    "        if its>10000:\n",
    "            break\n",
    "    return phi, its"
   ]
  },
  {
   "cell_type": "code",
   "execution_count": 2,
   "id": "5016bf0e",
   "metadata": {},
   "outputs": [
    {
     "data": {
      "image/png": "[encoded data removed]",
      "text/plain": [
       "<Figure size 640x480 with 1 Axes>"
      ]
     },
     "metadata": {},
     "output_type": "display_data"
    },
    {
     "name": "stdout",
     "output_type": "stream",
     "text": [
      "[[ 0.  0.  0.  0.  0.  0.  0.  0.  0.  0.  0.]\n",
      " [ 0.  0.  0.  0.  0.  0.  0.  0.  0.  0.  0.]\n",
      " [ 0.  0.  1.  0.  0.  0.  0.  0. -1.  0.  0.]\n",
      " [ 0.  0.  1.  0.  0.  0.  0.  0. -1.  0.  0.]\n",
      " [ 0.  0.  1.  0.  0.  0.  0.  0. -1.  0.  0.]\n",
      " [ 0.  0.  1.  0.  0.  0.  0.  0. -1.  0.  0.]\n",
      " [ 0.  0.  1.  0.  0.  0.  0.  0. -1.  0.  0.]\n",
      " [ 0.  0.  1.  0.  0.  0.  0.  0. -1.  0.  0.]\n",
      " [ 0.  0.  0.  0.  0.  0.  0.  0.  0.  0.  0.]\n",
      " [ 0.  0.  0.  0.  0.  0.  0.  0.  0.  0.  0.]]\n",
      "Las iteraciones requeridas fueron 31\n",
      "[[ 0.00000000e+00  0.00000000e+00  0.00000000e+00  0.00000000e+00\n",
      "   0.00000000e+00  0.00000000e+00  0.00000000e+00  0.00000000e+00\n",
      "   0.00000000e+00  0.00000000e+00  0.00000000e+00]\n",
      " [ 0.00000000e+00  1.94981738e-01  3.61763101e-01  2.52074856e-01\n",
      "   1.21523707e-01 -3.46944695e-18 -1.21523707e-01 -2.52074856e-01\n",
      "  -3.61763101e-01 -1.94981738e-01  0.00000000e+00]\n",
      " [ 0.00000000e+00  4.18165624e-01  1.00000000e+00  5.25023503e-01\n",
      "   2.34029291e-01  0.00000000e+00 -2.34029291e-01 -5.25023503e-01\n",
      "  -1.00000000e+00 -4.18165624e-01  0.00000000e+00]\n",
      " [ 0.00000000e+00  4.77681437e-01  1.00000000e+00  6.14006713e-01\n",
      "   2.89586981e-01 -1.38777878e-17 -2.89586981e-01 -6.14006713e-01\n",
      "  -1.00000000e+00 -4.77681437e-01  0.00000000e+00]\n",
      " [ 0.00000000e+00  4.92560428e-01  1.00000000e+00  6.41438595e-01\n",
      "   3.10333629e-01 -1.38777878e-17 -3.10333629e-01 -6.41438595e-01\n",
      "  -1.00000000e+00 -4.92560428e-01  0.00000000e+00]\n",
      " [ 0.00000000e+00  4.92560428e-01  1.00000000e+00  6.41438595e-01\n",
      "   3.10333629e-01 -1.38777878e-17 -3.10333629e-01 -6.41438595e-01\n",
      "  -1.00000000e+00 -4.92560428e-01  0.00000000e+00]\n",
      " [ 0.00000000e+00  4.77681437e-01  1.00000000e+00  6.14006713e-01\n",
      "   2.89586981e-01 -1.38777878e-17 -2.89586981e-01 -6.14006713e-01\n",
      "  -1.00000000e+00 -4.77681437e-01  0.00000000e+00]\n",
      " [ 0.00000000e+00  4.18165624e-01  1.00000000e+00  5.25023503e-01\n",
      "   2.34029291e-01  0.00000000e+00 -2.34029291e-01 -5.25023503e-01\n",
      "  -1.00000000e+00 -4.18165624e-01  0.00000000e+00]\n",
      " [ 0.00000000e+00  1.94981738e-01  3.61763101e-01  2.52074856e-01\n",
      "   1.21523707e-01 -3.46944695e-18 -1.21523707e-01 -2.52074856e-01\n",
      "  -3.61763101e-01 -1.94981738e-01  0.00000000e+00]\n",
      " [ 0.00000000e+00  0.00000000e+00  0.00000000e+00  0.00000000e+00\n",
      "   0.00000000e+00  0.00000000e+00  0.00000000e+00  0.00000000e+00\n",
      "   0.00000000e+00  0.00000000e+00  0.00000000e+00]]\n"
     ]
    }
   ],
   "source": [
    "jacobi_vals, iterations_jacobi = jacobi_relaxation(1, 1.0, -1.0, 1e-5)\n",
    "print(f\"Las iteraciones requeridas fueron {iterations_jacobi}\")\n",
    "print(jacobi_vals)"
   ]
  },
  {
   "cell_type": "code",
   "execution_count": 11,
   "id": "ce077ab4",
   "metadata": {},
   "outputs": [
    {
     "data": {
      "image/png": "[encoded data removed]",
      "text/plain": [
       "<Figure size 640x480 with 1 Axes>"
      ]
     },
     "metadata": {},
     "output_type": "display_data"
    }
   ],
   "source": [
    "plt.imshow(jacobi_vals)\n",
    "plt.gray()\n",
    "plt.show()"
   ]
  },
  {
   "cell_type": "markdown",
   "id": "7abe92c7",
   "metadata": {},
   "source": [
    "### Método de Gauss-Seidel\n",
    "\n",
    "Existe una optimización muy sencilla que se puede realizar al método de relajación de Jacobi.\n",
    "\n",
    "En el caso del método de Jacobi, utilizamos los valores antiguos para calcular los valores nuevos. Sin embargo, podemos ir actualizando los valores en los **mismos espacios de memoria para cada iteración**. Asumiendo que los valores nuevos están más cercanos a la solución, esto implica que el número de iteraciones para coverger va a ser menor.\n",
    "\n",
    "Basta con hacer una simple modificación al algoritmo:\n",
    "$$\n",
    "\\phi(x, y) \\leftarrow \\frac{\\phi(x+a, y) + \\phi(x-a, y) + \\phi(x, y+a) + \\phi(x, y-a)}{4}.\n",
    "$$\n",
    "De esta manera, en cada iteración para cada punto de la grilla, se reescriben los valores modificados en el mismo lugar. Se puede probar que esta modificación mejora el número de iteraciones para converger a la solución.\n",
    "\n",
    "* La diferencia crucial es que no utilizamos $\\phi'(x, y)$ en el lado izquierdo de la ecuación iterativa, si no el mismo $\\phi(x, y)$\n",
    "* De esta forma, actualizamos el valor viejo de inmediato, no al final de la iteración total de la grilla\n",
    "* El método puede ser combinado con el método modificado de Jacobi\n",
    "* En general, sin embargo, el método modificado de Jacobi puede ser inestable numéricamente, mientras que el de Gauss-Seidel **es siempre estable**. \n",
    "\n",
    "El método de Gauss-Seidel modificado se escribe de manera equivalente al de Jacobi\n",
    "$$\n",
    "\\phi(x, y) \\leftarrow (1+\\omega)\\left[\\frac{\\phi(x+a, y) + \\phi(x-a, y) + \\phi(x, y+a) + \\phi(x, y-a)}4\\right] - \\omega \\phi (x,y),\n",
    "$$\n",
    "con la única diferencia que sustituimos $\\phi(x, y)$, en lugar de asociarlo a $\\phi'(x, y)$"
   ]
  },
  {
   "cell_type": "code",
   "execution_count": 13,
   "id": "176af457",
   "metadata": {},
   "outputs": [],
   "source": [
    "def gauss_seidel_modified(M, V1, V2, omega, tolerance):\n",
    "    # Primero creamos el arreglo 2-dimensionales de la grilla\n",
    "    \n",
    "    phi = np.zeros((M*10, M*10 + 1), dtype=float)\n",
    "    # Ahora tenemos que colocar la condición inicial.\n",
    "    # Recuerde accesos de listas en np.ndarray\n",
    "    phi[2*M:8*M, 2*M] = V1\n",
    "    phi[2*M:8*M, 8*M] = V2\n",
    "    # Vamos a guardar una copia para evaluar el error\n",
    "    phi_copy = phi.copy()\n",
    "    # Iteración de Gauss-Seidel\n",
    "    delta = 1.0\n",
    "    its = 0\n",
    "    while delta > tolerance:\n",
    "        # Calculamos la iteración\n",
    "        its += 1\n",
    "        for i in range(1,M*10-1):\n",
    "            for j in range(1,M*10):\n",
    "                # Condición de frontera\n",
    "                if 2*M <= i < 8*M and (j == 2*M  or j == 8*M):\n",
    "                    pass\n",
    "                    #phi[2*M:8*M, 2*M] = V1\n",
    "                    #phi[2*M:8*M, 8*M] = V2 \n",
    "                # Iteración principal\n",
    "                else:\n",
    "                    # COMPLETE AQUÍ\n",
    "                    phi[i,j] = ((1.0+omega)*0.25)*(phi[i+1,j] + phi[i-1,j] + phi[i,j+1] + phi[i,j-1]) - omega*phi[i,j]\n",
    "        # Calculamos la diferencia máxima con respecto a los valores anteriores\n",
    "        delta = np.max(np.abs(phi - phi_copy))\n",
    "        # Copiamos los valores de la nueva iteración\n",
    "        phi_copy = phi.copy()\n",
    "        \n",
    "    return phi, its"
   ]
  },
  {
   "cell_type": "code",
   "execution_count": 15,
   "id": "9794e82d",
   "metadata": {},
   "outputs": [
    {
     "data": {
      "image/png": "[encoded data removed]",
      "text/plain": [
       "<Figure size 640x480 with 1 Axes>"
      ]
     },
     "metadata": {},
     "output_type": "display_data"
    }
   ],
   "source": [
    "result, iterations = gauss_seidel_modified( 10, 1.0, -1.0, 0.9, 1e-5)\n",
    "plt.imshow(result, cmap = \"gray\")\n",
    "plt.tight_layout()\n",
    "plt.title(f\"Gráfico para omega = {0.9}\")\n",
    "plt.show()"
   ]
  },
  {
   "cell_type": "code",
   "execution_count": null,
   "id": "ad69d110",
   "metadata": {},
   "outputs": [],
   "source": [
    "omega = np.linspace(0.1,0.9,9)\n",
    "different_values = np.empty(omega.size,dtype=object)\n",
    "for i in range(omega.size):\n",
    "    #gauss_seidel_vals, iterations = gauss_seidel_modified(100, 1.0, 0.1, 1e-5)\n",
    "    different_values[i] = gauss_seidel_modified(10, 1.0, -1, omega[i], 1e-5)"
   ]
  },
  {
   "cell_type": "code",
   "execution_count": null,
   "id": "36475ebe",
   "metadata": {
    "scrolled": true
   },
   "outputs": [],
   "source": [
    "# Se puede meter dentro del ciclo anterior, pero por temas de comprensión\n",
    "for i in range(different_values.size):\n",
    "    plt.imshow(different_values[i][0], cmap = \"gray\")\n",
    "    plt.tight_layout()\n",
    "    plt.title(f\"Gráfico para omega = {omega[i]:.1f}\")\n",
    "    plt.show()\n",
    "    print(f\"Las iteraciones requeridas fueron {different_values[i][1]}\")"
   ]
  },
  {
   "cell_type": "markdown",
   "id": "69537bb6",
   "metadata": {},
   "source": [
    "### Método de relajación de Jacobi modificado (*over-relaxation*)\n",
    "\n",
    "Existe una forma de mejorar el método de Jacobi para converger con menos iteraciones. Este método es el método de Jacobi modificado, en el cual en lugar de tomar pasos pequeños entre cada iteración, incrementamos con un parámetro $\\omega$ el tamaño del incremento que realizamos. Con esta modificación, el método de Jacobi modificado toma la forma \n",
    "$$\n",
    "\\phi'(x, y) = (1+\\omega)\\left[\\frac{\\phi(x+a, y) + \\phi(x-a, y) + \\phi(x, y+a) + \\phi(x, y-a)}4\\right] - \\omega \\phi (x,y).\n",
    "$$\n",
    "* Cuando funciona, usualmente reduce el número de iteraciones necesarias para obtener la aproximación\n",
    "* **No siempre es estable**, depende de como se escoja el parámetro $\\omega$\n",
    "* En general, se debe considerar un parámetro $\\omega$ que depende del problema para acelerar el cálculo"
   ]
  },
  {
   "cell_type": "code",
   "execution_count": 12,
   "id": "4bdd367c",
   "metadata": {},
   "outputs": [],
   "source": [
    "def SOR(M, V1, V2, omega, tolerance):\n",
    "    # M es el multiplo del tamaño de la grilla, esto permite que se mantenga la relacion de 10x10 pero se pueda\n",
    "    # Hacer una grilla con mayores divisiones generando mayor precision\n",
    "    \n",
    "    # Primero creamos los arreglos 2-dimensionales de la grilla\n",
    "    \n",
    "    phi = np.zeros((M*10, M*10 + 1), dtype=float)\n",
    "    # Ahora tenemos que colocar la condición inicial.\n",
    "    # Recuerde accesos de listas en np.ndarray\n",
    "    # Las condiciones de frontera de las placas con voltaje\n",
    "    phi[2*M:8*M, 2*M] = V1\n",
    "    phi[2*M:8*M, 8*M] = V2\n",
    "    \n",
    "    plt.imshow(phi)\n",
    "    plt.grid\n",
    "    plt.gray()\n",
    "    plt.title(\"Estado inicial del sistema\")\n",
    "    plt.show()\n",
    "    # phiprime se necesita para la iteración\n",
    "    phiprime = np.zeros((M*10, M*10 + 1), dtype=float)\n",
    "    # Iteración de Jacobi\n",
    "    delta = 1.0\n",
    "    its = 0\n",
    "    while delta > tolerance:\n",
    "        # Calculamos la iteración\n",
    "        its += 1\n",
    "        for i in range(1,M*10-1):\n",
    "            for j in range(1,M*10):\n",
    "                # Condición de frontera\n",
    "                if  2*M <= i < 8*M and (j == 2*M  or j == 8*M) :\n",
    "                    phi[2*M:8*M, 2*M] = V1\n",
    "                    phi[2*M:8*M, 8*M] = V2 \n",
    "                # Iteración principal\n",
    "                else:\n",
    "                    #COMPLETE AQUÍ\n",
    "                    phiprime[i,j] = (1.0+omega)*((phi[i+1,j] + phi[i-1,j] + phi[i,j+1] + phi[i,j-1]))*0.25 - omega*phi[i,j]\n",
    "        # Calculamos la diferencia máxima con respecto a los valores anteriores\n",
    "        delta = np.max(np.abs(phi - phiprime))\n",
    "        # Ahora intercambiamos los arreglos para la nueva iteración\n",
    "        # El nuevo phi es el phiprime\n",
    "        temp = phi\n",
    "        phi = phiprime\n",
    "        # El nuevo phiprime es el phi viejo\n",
    "        phiprime = temp\n",
    "    return phi, its"
   ]
  },
  {
   "cell_type": "code",
   "execution_count": null,
   "id": "bace6dee",
   "metadata": {},
   "outputs": [
    {
     "data": {
      "image/png": "[encoded data removed]",
      "text/plain": [
       "<Figure size 640x480 with 1 Axes>"
      ]
     },
     "metadata": {},
     "output_type": "display_data"
    },
    {
     "name": "stderr",
     "output_type": "stream",
     "text": [
      "/tmp/ipykernel_4764/963394125.py:36: RuntimeWarning: overflow encountered in scalar multiply\n",
      "  phiprime[i,j] = (1.0+omega)*((phi[i+1,j] + phi[i-1,j] + phi[i,j+1] + phi[i,j-1]))*0.25 - omega*phi[i,j]\n",
      "/tmp/ipykernel_4764/963394125.py:36: RuntimeWarning: overflow encountered in scalar add\n",
      "  phiprime[i,j] = (1.0+omega)*((phi[i+1,j] + phi[i-1,j] + phi[i,j+1] + phi[i,j-1]))*0.25 - omega*phi[i,j]\n"
     ]
    }
   ],
   "source": [
    "sor_vals, iterations = SOR(10, 1.0, -1.0, 0.1, 1e-5)\n",
    "# No funciona, necesita arreglo, scalar add overflow, scalar multiplication overflow"
   ]
  },
  {
   "cell_type": "code",
   "execution_count": null,
   "id": "e61a4c25",
   "metadata": {},
   "outputs": [],
   "source": [
    "plt.imshow(sor_vals)\n",
    "plt.gray()\n",
    "plt.show()"
   ]
  },
  {
   "cell_type": "code",
   "execution_count": null,
   "id": "7cf5aaf9",
   "metadata": {},
   "outputs": [],
   "source": []
  }
 ],
 "metadata": {
  "kernelspec": {
   "display_name": "Python 3 (ipykernel)",
   "language": "python",
   "name": "python3"
  },
  "language_info": {
   "codemirror_mode": {
    "name": "ipython",
    "version": 3
   },
   "file_extension": ".py",
   "mimetype": "text/x-python",
   "name": "python",
   "nbconvert_exporter": "python",
   "pygments_lexer": "ipython3",
   "version": "3.12.3"
  }
 },
 "nbformat": 4,
 "nbformat_minor": 5
}
