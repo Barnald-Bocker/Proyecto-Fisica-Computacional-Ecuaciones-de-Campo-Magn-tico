{
 "cells": [
  {
   "cell_type": "markdown",
   "id": "8a0acae3",
   "metadata": {},
   "source": [
    "# Modelo de un capacitor con condiciones"
   ]
  },
  {
   "cell_type": "markdown",
   "id": "9610267d",
   "metadata": {},
   "source": [
    "Resolver la ecuación de Laplace en dos dimensiones para el potencial electroestático $\\phi = \\phi(x,y)$:\n",
    "\n",
    "$$ \\frac{\\partial\\phi^2}{\\partial x^2} + \\frac{\\partial\\phi^2}{\\partial y^2} = 0 $$\n",
    "\n",
    "para una placa cuadrada de 10cm x 10cm, con dadas condiciones iniciales/de frontera."
   ]
  },
  {
   "cell_type": "code",
   "execution_count": null,
   "id": "eb04d4a1",
   "metadata": {
    "scrolled": false
   },
   "outputs": [],
   "source": [
    "#Cómo generar la placa con las dimensiones correctas y las condiciones iniciales\n",
    "\n",
    "import numpy as np\n",
    "import matplotlib.pyplot as plt\n",
    "\n",
    "prop = 1 #Proporción de los lados de la placa\n",
    "plate = np.zeros((10*prop,10*prop+1), dtype=float)\n",
    "plate[2*prop:8*prop,2*prop]=1.0\n",
    "plate[2*prop:8*prop,8*prop]=-1.0\n",
    "\n",
    "print(plate)\n",
    "plt.imshow(plate)\n",
    "plt.gray()\n",
    "plt.show()"
   ]
  },
  {
   "cell_type": "code",
   "execution_count": null,
   "id": "2b3afcbb",
   "metadata": {},
   "outputs": [],
   "source": [
    "#Utilizando el método de Jacobi\n",
    "\n",
    "def jacobi(tolerance, prop, V1, V2): #Se define con una tolerancia y una proporción de la placa a utilizar\n",
    "        \n",
    "    plate = np.zeros((10*prop,10*prop+1), dtype=float)     #Genera una placa (matriz) 1:1, del tipo 10n x 10n\n",
    "                                                             #donde \"n\" es un parámetro de proporción, para poder \n",
    "                                                             #ejecutarlo a diferentes escalas\n",
    "    platePrime = plate.copy()     #Genera una copia de la grilla anterior.\n",
    "    #Condición inicial\n",
    "    plate[2*prop:8*prop,2*prop]=V1     #Genera la franja de potencial V = V1\n",
    "    plate[2*prop:8*prop,8*prop]=V2     #Genera la franja de potencial V = V2\n",
    "    #Iteraciones de Jacobi\n",
    "    diff = 1.0     #Establece una diferencia inicial, que irá reduciéndose hasta alcanzar la tolerancia\n",
    "    iterations = 0 \n",
    "    while diff > tolerance:\n",
    "        iterations += 1     #Registrar número de iteraciones\n",
    "        for i in range(10*prop-1):     #Iterar por filas\n",
    "            for j in range(1,10*prop):     #Iterar por columnas\n",
    "                #Condición de frontera\n",
    "                if 2*prop <= i < 8*prop and (j == 2*prop or j == 8*prop):     #Mantener franjas invariantes\n",
    "                    platePrime[i,j] = plate[i,j]\n",
    "                else:\n",
    "                    platePrime[i,j] = (plate[i+1,j]+plate[i-1,j]+plate[i,j+1]+plate[i,j-1])*(0.25)\n",
    "        diff = np.max(np.abs(plate - platePrime))     #Determina la máxima diferencia entre la grilla nueva y la\n",
    "                                                      #iteración anterior. Continúa si el valor es mayor a la tolerancia\n",
    "        temp = plate     #Matriz temporal, para intercambiar plate <--> platePrime\n",
    "        plate = platePrime\n",
    "        platePrime = temp\n",
    "    \n",
    "    return platePrime, iterations"
   ]
  },
  {
   "cell_type": "code",
   "execution_count": null,
   "id": "39b81bbd",
   "metadata": {
    "scrolled": false
   },
   "outputs": [],
   "source": [
    "prop_values = [1,2,3,5,10]\n",
    "graphicsJacobi = np.empty(len(prop_values), dtype=object)\n",
    "for i in range(len(prop_values)):\n",
    "    graphicsJacobi[i] = jacobi(1.0e-5, prop_values[i], 1.0, -1.0)\n",
    "    plt.imshow(graphicsJacobi[i][0], cmap = \"gray\")\n",
    "    plt.tight_layout()\n",
    "    plt.title(f\"Gráfico para proporción n = {prop_values[i]}\")\n",
    "    plt.show()\n",
    "    print(f\"Número de iteraciones: {graphicsJacobi[i][1]}\")"
   ]
  },
  {
   "cell_type": "code",
   "execution_count": null,
   "id": "9a7e8a26",
   "metadata": {},
   "outputs": [],
   "source": [
    "#Utilizando el método de Jacobi mejorado:\n",
    "\n",
    "def jacobi_mejorado(tolerance, prop, V1, V2, omega): #Se define con una tolerancia y una proporción de la placa a utilizar\n",
    "        \n",
    "    plate = np.zeros((10*prop,10*prop+1), dtype=float)     #Genera una placa (matriz) 1:1, del tipo 10n x 10n\n",
    "                                                             #donde \"n\" es un parámetro de proporción, para poder \n",
    "                                                             #ejecutarlo a diferentes escalas\n",
    "    platePrime = plate.copy()     #Genera una copia de la grilla anterior.\n",
    "    #Condición inicial\n",
    "    plate[2*prop:8*prop,2*prop]=V1     #Genera la franja de potencial V = V1\n",
    "    plate[2*prop:8*prop,8*prop]=V2     #Genera la franja de potencial V = V2\n",
    "    #Iteraciones de Jacobi\n",
    "    diff = 1.0     #Establece una diferencia inicial, que irá reduciéndose hasta alcanzar la tolerancia\n",
    "    iterations = 0 \n",
    "    while diff > tolerance:\n",
    "        iterations += 1     #Registrar número de iteraciones\n",
    "        for i in range(10*prop-1):     #Iterar por filas\n",
    "            for j in range(1,10*prop):     #Iterar por columnas\n",
    "                #Condición de frontera\n",
    "                if 2*prop <= i < 8*prop and (j == 2*prop or j == 8*prop):     #Mantener franjas invariantes\n",
    "                    platePrime[i,j] = plate[i,j]\n",
    "                else:\n",
    "                    platePrime[i,j] = (1.0+omega)*(plate[i+1,j]+plate[i-1,j]+plate[i,j+1]+plate[i,j-1])*0.25 - omega*plate[i,j]\n",
    "        diff = np.max(np.abs(plate - platePrime))     #Determina la máxima diferencia entre la grilla nueva y la\n",
    "                                                      #iteración anterior. Continúa si el valor es mayor a la tolerancia\n",
    "        temp = plate     #Matriz temporal, para intercambiar plate <--> platePrime\n",
    "        plate = platePrime\n",
    "        platePrime = temp\n",
    "    \n",
    "    return platePrime, iterations"
   ]
  },
  {
   "cell_type": "code",
   "execution_count": null,
   "id": "1df1ecc0",
   "metadata": {
    "scrolled": false
   },
   "outputs": [],
   "source": [
    "plateM, itsM = jacobi_mejorado(1e-5, 1, 1.0, -1.0, 0.1)\n",
    "plt.imshow(plateM)\n",
    "plt.gray()\n",
    "plt.show()\n",
    "print(f\"Número de iteraciones: {itsM}\")\n",
    "\n",
    "#Falla para proporciones mayores a 1"
   ]
  },
  {
   "cell_type": "code",
   "execution_count": null,
   "id": "ea70f225",
   "metadata": {},
   "outputs": [],
   "source": [
    "# Utilizando el método de Gauss\n",
    "\n",
    "def gaussS(tolerance, prop, V1, V2, omega): #Se define con una tolerancia y una proporción de la placa a utilizar\n",
    "        \n",
    "    plate = np.zeros((10*prop,10*prop+1), dtype=float)     #Genera una placa (matriz) 1:1, del tipo 10n x 10n\n",
    "                                                             #donde \"n\" es un parámetro de proporción, para poder \n",
    "                                                             #ejecutarlo a diferentes escalas\n",
    "    \n",
    "    #Condición inicial\n",
    "    plate[2*prop:8*prop,2*prop]=V1     #Genera la franja de potencial V = V1\n",
    "    plate[2*prop:8*prop,8*prop]=V2     #Genera la franja de potencial V = V2\n",
    "    #Iteraciones de Jacobi\n",
    "    diff = 1.0     #Establece una diferencia inicial, que irá reduciéndose hasta alcanzar la tolerancia\n",
    "    iterations = 0 \n",
    "    while diff > tolerance:\n",
    "        platePrime = plate.copy() #Genera una copia de la grilla anterior.\n",
    "        iterations += 1     #Registrar número de iteraciones\n",
    "        for i in range(10*prop-1):     #Iterar por filas\n",
    "            for j in range(1,10*prop):     #Iterar por columnas\n",
    "                #Condición de frontera\n",
    "                if 2*prop <= i < 8*prop and (j == 2*prop or j == 8*prop):     #Mantener franjas invariantes\n",
    "                    plate[i,j] = plate[i,j]\n",
    "                else:\n",
    "                    plate[i,j] = (1.0+omega)*(plate[i+1,j]+plate[i-1,j]+plate[i,j+1]+plate[i,j-1])*0.25 - omega*plate[i,j]\n",
    "        diff = np.max(np.abs(plate - platePrime)) #Determina la máxima diferencia entre la grilla nueva y la\n",
    "                                                  #iteración anterior. Continúa si el valor es mayor a la tolerancia\n",
    "    \n",
    "    return plate, iterations"
   ]
  },
  {
   "cell_type": "code",
   "execution_count": null,
   "id": "629ddbdb",
   "metadata": {
    "scrolled": false
   },
   "outputs": [],
   "source": [
    "#Probando el resultado para distintos valores de omega, con una proporción constante de n=10 (placa 100x100)\n",
    "\n",
    "prop_values = np.linspace(0.1, 0.9, 9)\n",
    "for i in prop_values:\n",
    "    plateG, itsG = gaussS(1.0e-5, 10, 1.0, -1.0, i)\n",
    "    plt.imshow(plateG)\n",
    "    plt.gray()\n",
    "    plt.show()\n",
    "    print(f\"Número de iteraciones: {itsG}\")"
   ]
  },
  {
   "cell_type": "code",
   "execution_count": null,
   "id": "34507b32",
   "metadata": {},
   "outputs": [],
   "source": [
    "# No logré que funcionara para omega > 0.9\n",
    "\n",
    "plateG10, itsG = gaussS(1.0e-5, 10, 1.0, -1.0, 1.0)\n",
    "plt.imshow(plateG10)\n",
    "plt.gray()\n",
    "plt.show()\n",
    "print(f\"Número de iteraciones: {itsG10}\")"
   ]
  },
  {
   "cell_type": "code",
   "execution_count": null,
   "id": "3b7ba3e9",
   "metadata": {},
   "outputs": [],
   "source": []
  }
 ],
 "metadata": {
  "kernelspec": {
   "display_name": "Python 3 (ipykernel)",
   "language": "python",
   "name": "python3"
  },
  "language_info": {
   "codemirror_mode": {
    "name": "ipython",
    "version": 3
   },
   "file_extension": ".py",
   "mimetype": "text/x-python",
   "name": "python",
   "nbconvert_exporter": "python",
   "pygments_lexer": "ipython3",
   "version": "3.12.3"
  }
 },
 "nbformat": 4,
 "nbformat_minor": 5
}
